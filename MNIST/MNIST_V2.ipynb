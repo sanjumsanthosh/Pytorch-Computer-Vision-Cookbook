{
  "nbformat": 4,
  "nbformat_minor": 0,
  "metadata": {
    "colab": {
      "name": "MNIST_V2.ipynb",
      "provenance": []
    },
    "kernelspec": {
      "name": "python3",
      "display_name": "Python 3"
    },
    "accelerator": "GPU"
  },
  "cells": [
    {
      "cell_type": "code",
      "metadata": {
        "id": "fhiR5UP3E2zR",
        "colab_type": "code",
        "colab": {}
      },
      "source": [
        "path_to_dataset = '/content/drive/My Drive/Machine Learning/dataset'\n",
        "path_to_weights = '/content/drive/My Drive/Machine Learning'"
      ],
      "execution_count": 0,
      "outputs": []
    },
    {
      "cell_type": "code",
      "metadata": {
        "id": "FMPkaW1vFb2y",
        "colab_type": "code",
        "colab": {}
      },
      "source": [
        "import torchvision\n",
        "import numpy as np"
      ],
      "execution_count": 0,
      "outputs": []
    },
    {
      "cell_type": "code",
      "metadata": {
        "id": "eO3_1QzhFigF",
        "colab_type": "code",
        "colab": {}
      },
      "source": [
        "data = torchvision.datasets.MNIST(path_to_dataset,train=True,download=True)"
      ],
      "execution_count": 0,
      "outputs": []
    },
    {
      "cell_type": "code",
      "metadata": {
        "id": "8aAbzqV5Fs30",
        "colab_type": "code",
        "colab": {}
      },
      "source": [
        "from torch.utils.data import DataLoader,TensorDataset\n",
        "import torch"
      ],
      "execution_count": 0,
      "outputs": []
    },
    {
      "cell_type": "code",
      "metadata": {
        "id": "qUgoCGuVGbdf",
        "colab_type": "code",
        "colab": {}
      },
      "source": [
        "x_train = np.array(list(map(lambda x : np.array(x[0]) , data)))\n",
        "y_train = np.array(list(map(lambda x : x[1] , data)))\n"
      ],
      "execution_count": 0,
      "outputs": []
    },
    {
      "cell_type": "code",
      "metadata": {
        "id": "5tblOaxFIAN2",
        "colab_type": "code",
        "colab": {}
      },
      "source": [
        "dataset = TensorDataset(torch.Tensor(x_train),torch.Tensor(y_train).long())\n",
        "loader = DataLoader(dataset , 8)"
      ],
      "execution_count": 0,
      "outputs": []
    },
    {
      "cell_type": "markdown",
      "metadata": {
        "id": "Nt1qg_8hKEDK",
        "colab_type": "text"
      },
      "source": [
        "## model"
      ]
    },
    {
      "cell_type": "code",
      "metadata": {
        "id": "d0hqAOaWOV09",
        "colab_type": "code",
        "colab": {
          "base_uri": "https://localhost:8080/",
          "height": 34
        },
        "outputId": "4661ac77-302e-4822-a804-65d9da577f21"
      },
      "source": [
        "device = 'cuda' if torch.cuda.is_available() else 'cpu'\n",
        "device"
      ],
      "execution_count": 7,
      "outputs": [
        {
          "output_type": "execute_result",
          "data": {
            "text/plain": [
              "'cuda'"
            ]
          },
          "metadata": {
            "tags": []
          },
          "execution_count": 7
        }
      ]
    },
    {
      "cell_type": "code",
      "metadata": {
        "id": "HdW6iPi-KJC7",
        "colab_type": "code",
        "colab": {}
      },
      "source": [
        "import torch.nn as nn"
      ],
      "execution_count": 0,
      "outputs": []
    },
    {
      "cell_type": "code",
      "metadata": {
        "id": "f8KnFmRHKOY4",
        "colab_type": "code",
        "colab": {}
      },
      "source": [
        "class Net(nn.Module):\n",
        "\n",
        "    def __init__(self):\n",
        "        super(Net,self).__init__()\n",
        "        self.seq1 = nn.Sequential(\n",
        "            nn.Conv2d(1,32,3),\n",
        "            nn.ReLU(),\n",
        "        )\n",
        "        self.seq2 = nn.Sequential(\n",
        "            nn.Linear(21632,256),\n",
        "            nn.ReLU(),\n",
        "            nn.Linear(256,64),\n",
        "            nn.ReLU(),\n",
        "            nn.Linear(64,10),\n",
        "            nn.LogSoftmax(dim=1)\n",
        "        )\n",
        "        # self.c1 = nn.Conv2d(1,32,3)\n",
        "        # self.L1 = nn.Linear(21632,256)\n",
        "        # self.l2 = nn.Linear(256,64)\n",
        "        # self.l3 = nn.Linear(64,10)\n",
        "    def forward(self,x):\n",
        "        # x = nn.functional.relu(self.c1(x))\n",
        "        # x = nn.functional.relu(self.L1(x.view(-1,21632)))\n",
        "        # x = nn.functional.relu(self.l2(x))\n",
        "        # x = nn.functional.log_softmax(self.l3(x),dim=1)\n",
        "        x = self.seq1(x)\n",
        "        x = x.view(x.shape[0],-1)\n",
        "        x = self.seq2(x)\n",
        "        return x\n",
        "    "
      ],
      "execution_count": 0,
      "outputs": []
    },
    {
      "cell_type": "code",
      "metadata": {
        "id": "0nJ_b0l6Kaq1",
        "colab_type": "code",
        "colab": {}
      },
      "source": [
        "sample_input = torch.Tensor(np.ndarray(28*28*2).reshape(2,1,28,28))"
      ],
      "execution_count": 0,
      "outputs": []
    },
    {
      "cell_type": "code",
      "metadata": {
        "id": "3cqMdJM-LAAz",
        "colab_type": "code",
        "colab": {}
      },
      "source": [
        "net = Net()\n",
        "net = net.to(device)"
      ],
      "execution_count": 0,
      "outputs": []
    },
    {
      "cell_type": "code",
      "metadata": {
        "id": "gnwKWiXFlpX1",
        "colab_type": "code",
        "colab": {}
      },
      "source": [
        "# !pip install torchsummary"
      ],
      "execution_count": 0,
      "outputs": []
    },
    {
      "cell_type": "code",
      "metadata": {
        "id": "n-GjHeSMltKw",
        "colab_type": "code",
        "colab": {}
      },
      "source": [
        "from torchsummary import summary"
      ],
      "execution_count": 0,
      "outputs": []
    },
    {
      "cell_type": "code",
      "metadata": {
        "id": "RidI388ymEo9",
        "colab_type": "code",
        "colab": {
          "base_uri": "https://localhost:8080/",
          "height": 374
        },
        "outputId": "f8a28e0c-db72-46db-8a04-9a56cc60e903"
      },
      "source": [
        "summary(net,(1,28,28))"
      ],
      "execution_count": 14,
      "outputs": [
        {
          "output_type": "stream",
          "text": [
            "----------------------------------------------------------------\n",
            "        Layer (type)               Output Shape         Param #\n",
            "================================================================\n",
            "            Conv2d-1           [-1, 32, 26, 26]             320\n",
            "              ReLU-2           [-1, 32, 26, 26]               0\n",
            "            Linear-3                  [-1, 256]       5,538,048\n",
            "              ReLU-4                  [-1, 256]               0\n",
            "            Linear-5                   [-1, 64]          16,448\n",
            "              ReLU-6                   [-1, 64]               0\n",
            "            Linear-7                   [-1, 10]             650\n",
            "        LogSoftmax-8                   [-1, 10]               0\n",
            "================================================================\n",
            "Total params: 5,555,466\n",
            "Trainable params: 5,555,466\n",
            "Non-trainable params: 0\n",
            "----------------------------------------------------------------\n",
            "Input size (MB): 0.00\n",
            "Forward/backward pass size (MB): 0.34\n",
            "Params size (MB): 21.19\n",
            "Estimated Total Size (MB): 21.53\n",
            "----------------------------------------------------------------\n"
          ],
          "name": "stdout"
        }
      ]
    },
    {
      "cell_type": "code",
      "metadata": {
        "id": "whvDiSHTgxBf",
        "colab_type": "code",
        "colab": {
          "base_uri": "https://localhost:8080/",
          "height": 255
        },
        "outputId": "eea723d3-57a7-4046-93d9-29db9b1c27ec"
      },
      "source": [
        "net"
      ],
      "execution_count": 15,
      "outputs": [
        {
          "output_type": "execute_result",
          "data": {
            "text/plain": [
              "Net(\n",
              "  (seq1): Sequential(\n",
              "    (0): Conv2d(1, 32, kernel_size=(3, 3), stride=(1, 1))\n",
              "    (1): ReLU()\n",
              "  )\n",
              "  (seq2): Sequential(\n",
              "    (0): Linear(in_features=21632, out_features=256, bias=True)\n",
              "    (1): ReLU()\n",
              "    (2): Linear(in_features=256, out_features=64, bias=True)\n",
              "    (3): ReLU()\n",
              "    (4): Linear(in_features=64, out_features=10, bias=True)\n",
              "    (5): LogSoftmax()\n",
              "  )\n",
              ")"
            ]
          },
          "metadata": {
            "tags": []
          },
          "execution_count": 15
        }
      ]
    },
    {
      "cell_type": "code",
      "metadata": {
        "id": "UCR_tdgNMNuR",
        "colab_type": "code",
        "colab": {}
      },
      "source": [
        "loss_fn = nn.NLLLoss()\n",
        "optimizer = torch.optim.Adam(net.parameters())"
      ],
      "execution_count": 0,
      "outputs": []
    },
    {
      "cell_type": "code",
      "metadata": {
        "id": "kurG2NXXLS0M",
        "colab_type": "code",
        "colab": {
          "base_uri": "https://localhost:8080/",
          "height": 221
        },
        "outputId": "5a4b5c8f-657a-43d4-d418-f1dc963ceb30"
      },
      "source": [
        "Epochs = 3\n",
        "total_batches = len(loader)\n",
        "for epoc in range(Epochs):\n",
        "    loss_aggr = 0\n",
        "    print('\\nStarting epoch {} of {}'.format(epoc,Epochs))\n",
        "    for indx,(x,y) in enumerate(loader):\n",
        "        if(indx%50==0):print('.',end='')\n",
        "        optimizer.zero_grad()\n",
        "        x = x.view(-1,1,28,28)\n",
        "        x = x.to(device)\n",
        "        y = y.to(device)\n",
        "        out = net(x)\n",
        "        loss = loss_fn(out,y)\n",
        "        loss.backward()\n",
        "        optimizer.step()\n",
        "        loss+=loss.item()\n",
        "    print('\\nCompleted epoch {} with loss : {}'.format(epoc,loss))\n",
        "    "
      ],
      "execution_count": 17,
      "outputs": [
        {
          "output_type": "stream",
          "text": [
            "\n",
            "Starting epoch 0 of 3\n",
            "......................................................................................................................................................\n",
            "Completed epoch 0 with loss : 0.0011754035949707031\n",
            "\n",
            "Starting epoch 1 of 3\n",
            "......................................................................................................................................................\n",
            "Completed epoch 1 with loss : 0.00011134147644042969\n",
            "\n",
            "Starting epoch 2 of 3\n",
            "......................................................................................................................................................\n",
            "Completed epoch 2 with loss : 0.0001647472381591797\n"
          ],
          "name": "stdout"
        }
      ]
    },
    {
      "cell_type": "code",
      "metadata": {
        "id": "NZrr-7_GjsKD",
        "colab_type": "code",
        "colab": {}
      },
      "source": [
        ""
      ],
      "execution_count": 0,
      "outputs": []
    },
    {
      "cell_type": "code",
      "metadata": {
        "id": "WhGcm8ykOGgc",
        "colab_type": "code",
        "colab": {
          "base_uri": "https://localhost:8080/",
          "height": 34
        },
        "outputId": "d052fd87-a6b7-46d3-ee8b-445eebf0285a"
      },
      "source": [
        "#find accuracy\n",
        "accuracy = 0\n",
        "for inx,(x,y) in enumerate(loader):\n",
        "    x = x.view(-1,1,28,28)\n",
        "    x = x.to(device)\n",
        "    y = y.to(device)\n",
        "    out = net(x)\n",
        "    # print(nn.functional.softmax(out,dim=1))\n",
        "    ac = (out.argmax(dim=1)==y)\n",
        "    accuracy += ac.sum().cpu().numpy()/(len(ac))\n",
        "print(accuracy/len(loader))"
      ],
      "execution_count": 19,
      "outputs": [
        {
          "output_type": "stream",
          "text": [
            "0.987\n"
          ],
          "name": "stdout"
        }
      ]
    },
    {
      "cell_type": "code",
      "metadata": {
        "id": "zL4McyDKgt4Y",
        "colab_type": "code",
        "colab": {}
      },
      "source": [
        "import os\n",
        "torch.save(net.state_dict(),os.path.join(path_to_weights,'mnist.pt'))"
      ],
      "execution_count": 0,
      "outputs": []
    },
    {
      "cell_type": "code",
      "metadata": {
        "id": "8wjyp7u62hd0",
        "colab_type": "code",
        "colab": {}
      },
      "source": [
        ""
      ],
      "execution_count": 0,
      "outputs": []
    }
  ]
}